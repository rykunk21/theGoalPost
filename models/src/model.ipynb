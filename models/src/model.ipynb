{
 "cells": [
  {
   "cell_type": "code",
   "execution_count": 1,
   "metadata": {},
   "outputs": [],
   "source": [
    "# import packages\n",
    "import os\n",
    "import tarfile\n",
    "import urllib\n",
    "import pandas as pd\n",
    "from pandas.plotting import scatter_matrix\n",
    "import matplotlib.pyplot as plt\n",
    "import seaborn as sns\n",
    "import numpy as np\n",
    "import matplotlib.pyplot as plt\n",
    "from sklearn.ensemble import RandomForestRegressor\n",
    "from sklearn.model_selection import train_test_split\n",
    "from sklearn.model_selection import StratifiedShuffleSplit\n",
    "from sklearn.impute import SimpleImputer\n",
    "from sklearn.preprocessing import OrdinalEncoder\n",
    "from sklearn.preprocessing import OneHotEncoder\n",
    "from sklearn.pipeline import Pipeline\n",
    "from sklearn.preprocessing import StandardScaler\n",
    "from sklearn.compose import ColumnTransformer\n",
    "from sklearn.linear_model import LinearRegression\n",
    "from sklearn.metrics import mean_squared_error\n",
    "from sklearn.model_selection import learning_curve\n",
    "from util.util import BetUtil\n",
    "\n",
    "\n",
    "TEAM_PATH = './resources/scores.csv'"
   ]
  },
  {
   "cell_type": "code",
   "execution_count": 2,
   "metadata": {},
   "outputs": [],
   "source": [
    "def load_data(path=TEAM_PATH):\n",
    "\n",
    "    return pd.read_csv(path,header=0)"
   ]
  },
  {
   "cell_type": "code",
   "execution_count": 3,
   "metadata": {},
   "outputs": [],
   "source": [
    "def scatter_plot(df, label_column):\n",
    "    sns.set(style=\"ticks\")\n",
    "    num_cols = df.select_dtypes(include=np.number).columns\n",
    "    num_cols = [col for col in num_cols if col != label_column]\n",
    "    \n",
    "    ncols = 3\n",
    "    nrows = np.ceil(len(num_cols) / ncols).astype(int)\n",
    "    fig, ax = plt.subplots(nrows=nrows, ncols=ncols, figsize=(20, nrows * 7))\n",
    "    ax = ax.flatten()\n",
    "    \n",
    "    for i, col in enumerate(num_cols):\n",
    "        sns.scatterplot(x=df[col], y=df[label_column], ax=ax[i])\n",
    "        ax[i].set_xlabel(col)\n",
    "        ax[i].set_ylabel(label_column)\n",
    "        \n",
    "    plt.tight_layout()\n",
    "    plt.show()"
   ]
  },
  {
   "cell_type": "code",
   "execution_count": 4,
   "metadata": {},
   "outputs": [],
   "source": [
    "def visualze(scatter=True, corr=True):\n",
    "\n",
    "    teamData = load_data()\n",
    "    teamData.head()\n",
    "    labels = teamData[\"TmScore\"].copy().values\n",
    "\n",
    "    if scatter:\n",
    "        scatter_plot(teamData, \"TmScore\")\n",
    "    if corr:\n",
    "        teamData.corr()"
   ]
  },
  {
   "cell_type": "code",
   "execution_count": 5,
   "metadata": {},
   "outputs": [
    {
     "data": {
      "text/html": [
       "<div>\n",
       "<style scoped>\n",
       "    .dataframe tbody tr th:only-of-type {\n",
       "        vertical-align: middle;\n",
       "    }\n",
       "\n",
       "    .dataframe tbody tr th {\n",
       "        vertical-align: top;\n",
       "    }\n",
       "\n",
       "    .dataframe thead th {\n",
       "        text-align: right;\n",
       "    }\n",
       "</style>\n",
       "<table border=\"1\" class=\"dataframe\">\n",
       "  <thead>\n",
       "    <tr style=\"text-align: right;\">\n",
       "      <th></th>\n",
       "      <th>OppScore</th>\n",
       "      <th>TEAM_FG%</th>\n",
       "      <th>TEAM_3P%</th>\n",
       "      <th>TEAM_FT%</th>\n",
       "      <th>TEAM_ORB</th>\n",
       "      <th>TEAM_TRB</th>\n",
       "      <th>TEAM_AST</th>\n",
       "      <th>TEAM_STL</th>\n",
       "      <th>TEAM_BLK</th>\n",
       "      <th>TEAM_TOV</th>\n",
       "      <th>...</th>\n",
       "      <th>OPP_ORB</th>\n",
       "      <th>OPP_TRB</th>\n",
       "      <th>OPP_AST</th>\n",
       "      <th>OPP_STL</th>\n",
       "      <th>OPP_BLK</th>\n",
       "      <th>OPP_TOV</th>\n",
       "      <th>OPP_PF</th>\n",
       "      <th>@</th>\n",
       "      <th>H</th>\n",
       "      <th>N</th>\n",
       "    </tr>\n",
       "  </thead>\n",
       "  <tbody>\n",
       "    <tr>\n",
       "      <th>0</th>\n",
       "      <td>56</td>\n",
       "      <td>0.404</td>\n",
       "      <td>0.286</td>\n",
       "      <td>0.550</td>\n",
       "      <td>4</td>\n",
       "      <td>32</td>\n",
       "      <td>12</td>\n",
       "      <td>9</td>\n",
       "      <td>5</td>\n",
       "      <td>15</td>\n",
       "      <td>...</td>\n",
       "      <td>7</td>\n",
       "      <td>40</td>\n",
       "      <td>9</td>\n",
       "      <td>6</td>\n",
       "      <td>1</td>\n",
       "      <td>21</td>\n",
       "      <td>21</td>\n",
       "      <td>0</td>\n",
       "      <td>1</td>\n",
       "      <td>0</td>\n",
       "    </tr>\n",
       "    <tr>\n",
       "      <th>1</th>\n",
       "      <td>77</td>\n",
       "      <td>0.385</td>\n",
       "      <td>0.444</td>\n",
       "      <td>0.833</td>\n",
       "      <td>9</td>\n",
       "      <td>24</td>\n",
       "      <td>12</td>\n",
       "      <td>11</td>\n",
       "      <td>0</td>\n",
       "      <td>20</td>\n",
       "      <td>...</td>\n",
       "      <td>10</td>\n",
       "      <td>33</td>\n",
       "      <td>7</td>\n",
       "      <td>11</td>\n",
       "      <td>3</td>\n",
       "      <td>19</td>\n",
       "      <td>17</td>\n",
       "      <td>1</td>\n",
       "      <td>0</td>\n",
       "      <td>0</td>\n",
       "    </tr>\n",
       "    <tr>\n",
       "      <th>2</th>\n",
       "      <td>46</td>\n",
       "      <td>0.603</td>\n",
       "      <td>0.294</td>\n",
       "      <td>0.773</td>\n",
       "      <td>15</td>\n",
       "      <td>44</td>\n",
       "      <td>22</td>\n",
       "      <td>15</td>\n",
       "      <td>5</td>\n",
       "      <td>18</td>\n",
       "      <td>...</td>\n",
       "      <td>4</td>\n",
       "      <td>17</td>\n",
       "      <td>7</td>\n",
       "      <td>9</td>\n",
       "      <td>2</td>\n",
       "      <td>27</td>\n",
       "      <td>18</td>\n",
       "      <td>0</td>\n",
       "      <td>1</td>\n",
       "      <td>0</td>\n",
       "    </tr>\n",
       "    <tr>\n",
       "      <th>3</th>\n",
       "      <td>77</td>\n",
       "      <td>0.431</td>\n",
       "      <td>0.318</td>\n",
       "      <td>0.400</td>\n",
       "      <td>6</td>\n",
       "      <td>26</td>\n",
       "      <td>15</td>\n",
       "      <td>11</td>\n",
       "      <td>3</td>\n",
       "      <td>23</td>\n",
       "      <td>...</td>\n",
       "      <td>1</td>\n",
       "      <td>24</td>\n",
       "      <td>18</td>\n",
       "      <td>12</td>\n",
       "      <td>5</td>\n",
       "      <td>18</td>\n",
       "      <td>14</td>\n",
       "      <td>0</td>\n",
       "      <td>0</td>\n",
       "      <td>1</td>\n",
       "    </tr>\n",
       "    <tr>\n",
       "      <th>4</th>\n",
       "      <td>77</td>\n",
       "      <td>0.491</td>\n",
       "      <td>0.529</td>\n",
       "      <td>0.545</td>\n",
       "      <td>2</td>\n",
       "      <td>22</td>\n",
       "      <td>20</td>\n",
       "      <td>7</td>\n",
       "      <td>3</td>\n",
       "      <td>15</td>\n",
       "      <td>...</td>\n",
       "      <td>8</td>\n",
       "      <td>29</td>\n",
       "      <td>10</td>\n",
       "      <td>4</td>\n",
       "      <td>0</td>\n",
       "      <td>18</td>\n",
       "      <td>13</td>\n",
       "      <td>0</td>\n",
       "      <td>0</td>\n",
       "      <td>1</td>\n",
       "    </tr>\n",
       "  </tbody>\n",
       "</table>\n",
       "<p>5 rows × 24 columns</p>\n",
       "</div>"
      ],
      "text/plain": [
       "   OppScore  TEAM_FG%  TEAM_3P%  TEAM_FT%  TEAM_ORB  TEAM_TRB  TEAM_AST  \\\n",
       "0        56     0.404     0.286     0.550         4        32        12   \n",
       "1        77     0.385     0.444     0.833         9        24        12   \n",
       "2        46     0.603     0.294     0.773        15        44        22   \n",
       "3        77     0.431     0.318     0.400         6        26        15   \n",
       "4        77     0.491     0.529     0.545         2        22        20   \n",
       "\n",
       "   TEAM_STL  TEAM_BLK  TEAM_TOV  ...  OPP_ORB  OPP_TRB  OPP_AST  OPP_STL  \\\n",
       "0         9         5        15  ...        7       40        9        6   \n",
       "1        11         0        20  ...       10       33        7       11   \n",
       "2        15         5        18  ...        4       17        7        9   \n",
       "3        11         3        23  ...        1       24       18       12   \n",
       "4         7         3        15  ...        8       29       10        4   \n",
       "\n",
       "   OPP_BLK  OPP_TOV  OPP_PF  @  H  N  \n",
       "0        1       21      21  0  1  0  \n",
       "1        3       19      17  1  0  0  \n",
       "2        2       27      18  0  1  0  \n",
       "3        5       18      14  0  0  1  \n",
       "4        0       18      13  0  0  1  \n",
       "\n",
       "[5 rows x 24 columns]"
      ]
     },
     "execution_count": 5,
     "metadata": {},
     "output_type": "execute_result"
    }
   ],
   "source": [
    "teamData = load_data(TEAM_PATH)\n",
    "features = teamData.drop(\"TmScore\",axis=1)\n",
    "\n",
    "\n",
    "features.drop(columns=[*'TeamName,W/L,Opp,G,Date,TEAM_FG,TEAM_FGA,TEAM_3P,TEAM_3PA,TEAM_FT,TEAM_FTA,OPP_FG,OPP_FGA,OPP_3P,OPP_3PA,OPP_FT,OPP_FTA'.split(',')],inplace=True)\n",
    "onehot = pd.get_dummies(features['Court'])\n",
    "features.drop('Court', axis=1, inplace=True)\n",
    "features = features.join(onehot)\n",
    "\n",
    "\n",
    "\n",
    "labels = teamData[\"TmScore\"].copy()\n",
    "features.head()\n"
   ]
  },
  {
   "cell_type": "code",
   "execution_count": 6,
   "metadata": {},
   "outputs": [],
   "source": [
    "num_pipeline = Pipeline([\n",
    "    ('imputer', SimpleImputer(strategy = \"median\")),\n",
    "    ('std_scaler', StandardScaler())\n",
    "])\n",
    "featuresScaled = num_pipeline.fit_transform(features)\n",
    "\n",
    "train_features, test_features, train_labels, test_labels = train_test_split(\n",
    "    featuresScaled, labels, test_size=0.2, random_state=42\n",
    ")"
   ]
  },
  {
   "cell_type": "code",
   "execution_count": 17,
   "metadata": {},
   "outputs": [],
   "source": [
    "def plotLearningCurves(model, train_features, test_features, train_labels, test_labels):\n",
    "    train_sizes, train_scores, test_scores = learning_curve(model, train_features, train_labels,\n",
    "                                                            cv=5, scoring=\"neg_mean_squared_error\")\n",
    "    train_scores_mean = np.mean(-train_scores, axis=1)\n",
    "    test_scores_mean = np.mean(-test_scores, axis=1)\n",
    "    plt.plot(train_sizes, np.sqrt(train_scores_mean), \"r-+\", linewidth=2, label=\"train\")\n",
    "    plt.plot(train_sizes, np.sqrt(test_scores_mean), \"b-\", linewidth=3, label=\"test\")\n",
    "    plt.legend(loc=\"upper right\", fontsize=14)\n",
    "    plt.xlabel(\"Training set size\", fontsize=14)\n",
    "    plt.ylabel(\"RMSE\", fontsize=14)\n",
    "    plt.title(\"Learning Curves\", fontsize=16)\n",
    "    plt.show()\n",
    "    return model"
   ]
  },
  {
   "cell_type": "code",
   "execution_count": 19,
   "metadata": {},
   "outputs": [
    {
     "data": {
      "text/html": [
       "<style>#sk-container-id-2 {color: black;background-color: white;}#sk-container-id-2 pre{padding: 0;}#sk-container-id-2 div.sk-toggleable {background-color: white;}#sk-container-id-2 label.sk-toggleable__label {cursor: pointer;display: block;width: 100%;margin-bottom: 0;padding: 0.3em;box-sizing: border-box;text-align: center;}#sk-container-id-2 label.sk-toggleable__label-arrow:before {content: \"▸\";float: left;margin-right: 0.25em;color: #696969;}#sk-container-id-2 label.sk-toggleable__label-arrow:hover:before {color: black;}#sk-container-id-2 div.sk-estimator:hover label.sk-toggleable__label-arrow:before {color: black;}#sk-container-id-2 div.sk-toggleable__content {max-height: 0;max-width: 0;overflow: hidden;text-align: left;background-color: #f0f8ff;}#sk-container-id-2 div.sk-toggleable__content pre {margin: 0.2em;color: black;border-radius: 0.25em;background-color: #f0f8ff;}#sk-container-id-2 input.sk-toggleable__control:checked~div.sk-toggleable__content {max-height: 200px;max-width: 100%;overflow: auto;}#sk-container-id-2 input.sk-toggleable__control:checked~label.sk-toggleable__label-arrow:before {content: \"▾\";}#sk-container-id-2 div.sk-estimator input.sk-toggleable__control:checked~label.sk-toggleable__label {background-color: #d4ebff;}#sk-container-id-2 div.sk-label input.sk-toggleable__control:checked~label.sk-toggleable__label {background-color: #d4ebff;}#sk-container-id-2 input.sk-hidden--visually {border: 0;clip: rect(1px 1px 1px 1px);clip: rect(1px, 1px, 1px, 1px);height: 1px;margin: -1px;overflow: hidden;padding: 0;position: absolute;width: 1px;}#sk-container-id-2 div.sk-estimator {font-family: monospace;background-color: #f0f8ff;border: 1px dotted black;border-radius: 0.25em;box-sizing: border-box;margin-bottom: 0.5em;}#sk-container-id-2 div.sk-estimator:hover {background-color: #d4ebff;}#sk-container-id-2 div.sk-parallel-item::after {content: \"\";width: 100%;border-bottom: 1px solid gray;flex-grow: 1;}#sk-container-id-2 div.sk-label:hover label.sk-toggleable__label {background-color: #d4ebff;}#sk-container-id-2 div.sk-serial::before {content: \"\";position: absolute;border-left: 1px solid gray;box-sizing: border-box;top: 0;bottom: 0;left: 50%;z-index: 0;}#sk-container-id-2 div.sk-serial {display: flex;flex-direction: column;align-items: center;background-color: white;padding-right: 0.2em;padding-left: 0.2em;position: relative;}#sk-container-id-2 div.sk-item {position: relative;z-index: 1;}#sk-container-id-2 div.sk-parallel {display: flex;align-items: stretch;justify-content: center;background-color: white;position: relative;}#sk-container-id-2 div.sk-item::before, #sk-container-id-2 div.sk-parallel-item::before {content: \"\";position: absolute;border-left: 1px solid gray;box-sizing: border-box;top: 0;bottom: 0;left: 50%;z-index: -1;}#sk-container-id-2 div.sk-parallel-item {display: flex;flex-direction: column;z-index: 1;position: relative;background-color: white;}#sk-container-id-2 div.sk-parallel-item:first-child::after {align-self: flex-end;width: 50%;}#sk-container-id-2 div.sk-parallel-item:last-child::after {align-self: flex-start;width: 50%;}#sk-container-id-2 div.sk-parallel-item:only-child::after {width: 0;}#sk-container-id-2 div.sk-dashed-wrapped {border: 1px dashed gray;margin: 0 0.4em 0.5em 0.4em;box-sizing: border-box;padding-bottom: 0.4em;background-color: white;}#sk-container-id-2 div.sk-label label {font-family: monospace;font-weight: bold;display: inline-block;line-height: 1.2em;}#sk-container-id-2 div.sk-label-container {text-align: center;}#sk-container-id-2 div.sk-container {/* jupyter's `normalize.less` sets `[hidden] { display: none; }` but bootstrap.min.css set `[hidden] { display: none !important; }` so we also need the `!important` here to be able to override the default hidden behavior on the sphinx rendered scikit-learn.org. See: https://github.com/scikit-learn/scikit-learn/issues/21755 */display: inline-block !important;position: relative;}#sk-container-id-2 div.sk-text-repr-fallback {display: none;}</style><div id=\"sk-container-id-2\" class=\"sk-top-container\"><div class=\"sk-text-repr-fallback\"><pre>RandomForestRegressor(random_state=42)</pre><b>In a Jupyter environment, please rerun this cell to show the HTML representation or trust the notebook. <br />On GitHub, the HTML representation is unable to render, please try loading this page with nbviewer.org.</b></div><div class=\"sk-container\" hidden><div class=\"sk-item\"><div class=\"sk-estimator sk-toggleable\"><input class=\"sk-toggleable__control sk-hidden--visually\" id=\"sk-estimator-id-2\" type=\"checkbox\" checked><label for=\"sk-estimator-id-2\" class=\"sk-toggleable__label sk-toggleable__label-arrow\">RandomForestRegressor</label><div class=\"sk-toggleable__content\"><pre>RandomForestRegressor(random_state=42)</pre></div></div></div></div></div>"
      ],
      "text/plain": [
       "RandomForestRegressor(random_state=42)"
      ]
     },
     "execution_count": 19,
     "metadata": {},
     "output_type": "execute_result"
    }
   ],
   "source": [
    "# Make predictions on the test set\n",
    "rf_reg = RandomForestRegressor(n_estimators=100, random_state=42)\n",
    "rf_reg.fit(train_features,train_labels)\n",
    "\n"
   ]
  },
  {
   "cell_type": "code",
   "execution_count": 9,
   "metadata": {},
   "outputs": [
    {
     "name": "stdout",
     "output_type": "stream",
     "text": [
      "Standard deviation: 5.3745108995905175\n"
     ]
    }
   ],
   "source": [
    "predictions = rf_reg.predict(test_features)\n",
    "differences = np.array(predictions) - np.array(test_labels)\n",
    "std_dev = np.std(differences)\n",
    "\n",
    "print(\"Standard deviation:\", std_dev)"
   ]
  },
  {
   "cell_type": "code",
   "execution_count": 16,
   "metadata": {},
   "outputs": [
    {
     "name": "stderr",
     "output_type": "stream",
     "text": [
      "C:\\Users\\rykun\\AppData\\Local\\Packages\\PythonSoftwareFoundation.Python.3.10_qbz5n2kfra8p0\\LocalCache\\local-packages\\Python310\\site-packages\\sklearn\\base.py:420: UserWarning: X does not have valid feature names, but SimpleImputer was fitted with feature names\n",
      "  warnings.warn(\n"
     ]
    },
    {
     "data": {
      "text/plain": [
       "array([58.63])"
      ]
     },
     "execution_count": 16,
     "metadata": {},
     "output_type": "execute_result"
    }
   ],
   "source": [
    "data = '70\t.389\t.333\t1.000\t2\t28\t8\t4\t2\t7\t12\t.500\t.423\t.625\t3\t28\t13\t2\t3\t6\t1 1 0 0'.split()\n",
    "dataScaled = num_pipeline.transform([data])\n",
    "rf_reg.predict(dataScaled)"
   ]
  },
  {
   "cell_type": "code",
   "execution_count": 11,
   "metadata": {},
   "outputs": [],
   "source": [
    "def predictScore(team1, team2):\n",
    "\n",
    "    team1 = num_pipeline.transform([team1])\n",
    "\n",
    "    team2 = num_pipeline.transform([team2])\n",
    "    \n",
    "    print(f'Team1: {rf_reg.predict(team1)}')\n",
    "    print(f'Team2: {rf_reg.predict(team2)}')"
   ]
  },
  {
   "cell_type": "code",
   "execution_count": null,
   "metadata": {},
   "outputs": [],
   "source": [
    "import warnings\n",
    "warnings.filterwarnings(\"ignore\", category=UserWarning, module=\"sklearn.base\")\n"
   ]
  },
  {
   "cell_type": "code",
   "execution_count": null,
   "metadata": {},
   "outputs": [],
   "source": [
    "\n",
    "msu = {\n",
    "\"team\": [25.3,57.3,6.9,18.5,10.7,14.5,9.0,36.6,14.7,4.9,3.0,11.1,16.8,68.1],\n",
    "\"opponent\": [23.6,57.6,6.3,21.4,12.1,17.0,8.9,33.1,12.7,5.9,3.8,9.7,15.9,65.6]\n",
    "}\n",
    "\n",
    "osu = {\n",
    "    \"team\": [28.0,60.4,6.7,18.2,12.5,17.3,11.8,38.5,11.9,5.1,3.7,11.0,16.2,75.0],\n",
    "    \"opponent\": [24.7,59.3,6.8,22.0,11.9,16.5,10.1,33.3,12.0,5.0,2.8,11.3,16.5,68.0]\n",
    "}\n",
    "\n",
    "averagesMsu = {\n",
    "   'team': [70.3, 25.0, 58.3, 6.85, 20.25, 11.3, 15.5, 9.55, 34.95, 13.35, 4.95, 2.9, 11.2, 16.65], \n",
    "   'opponent': [25.8, 59.0, 6.5, 19.799999999999997, 12.3, 17.15, 10.350000000000001, 35.8, 12.3, 5.5, 3.75, 10.35, 16.05]\n",
    "   }\n",
    "\n",
    "\n",
    "averagesOsu = {'team': [68.05,25.8, 59.0, 6.5, 19.799999999999997, 12.3, 17.15, 10.350000000000001, 35.8, 12.3, 5.5, 3.75, 10.35, 16.05], \n",
    "               'opponent': [25.0, 58.3, 6.85, 20.25, 11.3, 15.5, 9.55, 34.95, 13.35, 4.95, 2.9, 11.2, 16.65]\n",
    "}\n",
    "\n",
    "msu = [70.3, 25.0, 58.3, 6.85, 20.25, 11.3, 15.5, 9.55, 34.95, 13.35, 4.95, 2.9, 11.2, 16.65] + [25.8, 59.0, 6.5, 19.799999999999997, 12.3, 17.15, 10.350000000000001, 35.8, 12.3, 5.5, 3.75, 10.35, 16.05]\n",
    "osu = [68.05,25.8, 59.0, 6.5, 19.799999999999997, 12.3, 17.15, 10.350000000000001, 35.8, 12.3, 5.5, 3.75, 10.35, 16.05] + [25.0, 58.3, 6.85, 20.25, 11.3, 15.5, 9.55, 34.95, 13.35, 4.95, 2.9, 11.2, 16.65]\n",
    "\n",
    "\n",
    "predictScore(msu, osu)\n",
    "\n"
   ]
  },
  {
   "cell_type": "code",
   "execution_count": null,
   "metadata": {},
   "outputs": [],
   "source": [
    "northwestern = {\n",
    "    \"team\": np.array([23.6,57.8,7.7,23.9,13.5,18.1,10.4,35.3,13.5,7.9,4.4,10.3,16.0,68.4]),\n",
    "    \"opponent\": np.array([21.7,53.6,7.9,22.8,10.9,16.0,9.5,34.9,13.5,4.8,3.6,14.4,17.1,62.1])\n",
    "}\n",
    "\n",
    "purdue = {\n",
    "    \"team\": np.array([26.2,56.0,7.4,21.7,14.8,19.7,12.4,39.5,15.7,4.7,4.0,11.2,13.2,74.6]),\n",
    "    \"opponent\": np.array([24.0,58.6,6.3,20.6,7.2,9.8,8.2,27.5,12.2,5.9,2.8,10.1,18.3,61.6])\n",
    "}\n",
    "\n",
    "pAve = {\n",
    "    \"team\": (purdue['team'] + northwestern['opponent'])/2,\n",
    "    \"opponent\": (purdue['opponent'] + northwestern['team'])/2\n",
    "}\n",
    "\n",
    "nwAve = {\n",
    "     \"team\": (purdue['opponent'] + northwestern['team'])/2,\n",
    "    \"opponent\": (purdue['team'] + northwestern['opponent'])/2\n",
    "}\n",
    "\n",
    "print(pAve)\n",
    "print(nwAve)\n",
    "\n",
    "\n",
    "pPredict = [68.35, 23.95, 54.8 ,  7.65, 22.25, 12.85, 17.85, 10.95, 37.2 , 14.6 , 4.75,  3.8 , 12.8 , 15.15]  + [23.95, 54.8 ,  7.65, 22.25, 12.85, 17.85, 10.95, 37.2 , 14.6 ,4.75,  3.8 , 12.8 , 15.15]\n",
    "nwPredict = [68.35, 23.8 , 58.2 ,  7.  , 22.25, 10.35, 13.95,  9.3 , 31.4 , 12.85, 6.9 ,  3.6 , 10.2 , 17.15] + [23.95, 54.8 ,  7.65, 22.25, 12.85, 17.85, 10.95, 37.2 , 14.6 , 4.75,  3.8 , 12.8 , 15.15]\n",
    "\n",
    "predictScore(pPredict,nwPredict)"
   ]
  },
  {
   "cell_type": "code",
   "execution_count": null,
   "metadata": {},
   "outputs": [],
   "source": [
    "from util.util import BetUtil"
   ]
  },
  {
   "cell_type": "code",
   "execution_count": null,
   "metadata": {},
   "outputs": [],
   "source": [
    "BetUtil.Line('+181').toProb()"
   ]
  }
 ],
 "metadata": {
  "kernelspec": {
   "display_name": "Python 3",
   "language": "python",
   "name": "python3"
  },
  "language_info": {
   "codemirror_mode": {
    "name": "ipython",
    "version": 3
   },
   "file_extension": ".py",
   "mimetype": "text/x-python",
   "name": "python",
   "nbconvert_exporter": "python",
   "pygments_lexer": "ipython3",
   "version": "3.10.10"
  },
  "orig_nbformat": 4,
  "vscode": {
   "interpreter": {
    "hash": "5e711ab08706ab021e670997945976ed3c774f441780499cda28b3223ffbb5b6"
   }
  }
 },
 "nbformat": 4,
 "nbformat_minor": 2
}
